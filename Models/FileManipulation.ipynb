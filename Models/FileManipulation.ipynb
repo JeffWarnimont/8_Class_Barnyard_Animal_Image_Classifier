{
 "cells": [
  {
   "cell_type": "code",
   "execution_count": 1,
   "id": "0bdcdf1f-d9e7-4152-9af4-b8a5c4006877",
   "metadata": {
    "tags": []
   },
   "outputs": [],
   "source": [
    "# Import dependencies\n",
    "import os\n",
    "import shutil\n",
    "import random\n",
    "import glob\n",
    "import cv2\n",
    "import imghdr"
   ]
  },
  {
   "cell_type": "code",
   "execution_count": null,
   "id": "aa941f74-459d-4e3f-bda8-cad76182fae3",
   "metadata": {
    "tags": []
   },
   "outputs": [],
   "source": [
    "# Assigns variables for data directory and file types we are expecting to find in it\n",
    "data_dir = 'C:/Users/warnj/Desktop/C964 Project Data/Barnyard Images/GoatOrSheep' \n",
    "image_exts = ['jpeg','jpg']\n",
    "\n",
    "# Removes files that generate errors or are of a type not listed above. \n",
    "# Do this for each class folder before splitting data\n",
    "for image_class in os.listdir(data_dir): \n",
    "    for image in os.listdir(os.path.join(data_dir, image_class)):\n",
    "        image_path = os.path.join(data_dir, image_class, image)\n",
    "        try: \n",
    "            img = cv2.imread(image_path)\n",
    "            tip = imghdr.what(image_path)\n",
    "            if tip not in image_exts: \n",
    "                print('Image not in ext list {}'.format(image_path))\n",
    "                os.remove(image_path)\n",
    "        except Exception as e: \n",
    "            print('Issue with image {}'.format(image_path))"
   ]
  },
  {
   "cell_type": "code",
   "execution_count": 2,
   "id": "f0aae912-dd79-46c4-900b-b5c3d4742d42",
   "metadata": {},
   "outputs": [],
   "source": [
    "# Loop for renaming all files in a folder to a conventional naming system \n",
    "# Do this for each class folder before splitting data\n",
    "path = 'C:/Users/warnj/Desktop/C964 Project Data/Barnyard Images/GoatOrSheep'\n",
    "i = 1\n",
    "for filename in os.listdir(path):\n",
    "    os.rename(os.path.join(path,filename), os.path.join(path,'GoatOrSheep 0'+str(i)+'.jpg'))\n",
    "    i = i +1"
   ]
  },
  {
   "cell_type": "code",
   "execution_count": 3,
   "id": "c82e7a18-75e9-4c44-938f-cb1008bf038e",
   "metadata": {
    "tags": []
   },
   "outputs": [],
   "source": [
    "# Create train, test, and valid folders and populate them with appropriate quantities of images\n",
    "# Do this for each class of image\n",
    "os.chdir('Barnyard Images/GoatOrSheep')\n",
    "if os.path.isdir('train/goatorsheep') is False:\n",
    "        os.makedirs('train/goatorsheep')\n",
    "        os.makedirs('valid/goatorsheep')\n",
    "        os.makedirs('test/goatorsheep')\n",
    "        \n",
    "        for c in random.sample(glob.glob('GoatOrSheep*'), 600):\n",
    "            shutil.move(c, 'train/goatorsheep')\n",
    "        for c in random.sample(glob.glob('GoatOrSheep*'), 150):\n",
    "            shutil.move(c, 'valid/goatorsheep')\n",
    "        for c in random.sample(glob.glob('GoatOrSheep*'), 50):\n",
    "            shutil.move(c, 'test/goatorsheep')"
   ]
  },
  {
   "cell_type": "code",
   "execution_count": null,
   "id": "ff3a425b-18f1-48a8-bbe0-bcb54100b6a8",
   "metadata": {},
   "outputs": [],
   "source": []
  }
 ],
 "metadata": {
  "kernelspec": {
   "display_name": "Python 3 (ipykernel)",
   "language": "python",
   "name": "python3"
  },
  "language_info": {
   "codemirror_mode": {
    "name": "ipython",
    "version": 3
   },
   "file_extension": ".py",
   "mimetype": "text/x-python",
   "name": "python",
   "nbconvert_exporter": "python",
   "pygments_lexer": "ipython3",
   "version": "3.9.13"
  }
 },
 "nbformat": 4,
 "nbformat_minor": 5
}
