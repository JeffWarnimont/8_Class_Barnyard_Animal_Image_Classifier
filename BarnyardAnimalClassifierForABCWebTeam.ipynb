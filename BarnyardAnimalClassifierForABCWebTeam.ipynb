{
 "cells": [
  {
   "cell_type": "markdown",
   "id": "287efb88-c453-4515-944c-425de52d1e91",
   "metadata": {},
   "source": [
    "# Barnyard Animal Image Classification With Fine-Tuned MobileNet"
   ]
  },
  {
   "cell_type": "code",
   "execution_count": 1,
   "id": "e5d7d036-31f0-4340-adf1-3e2cda0aa736",
   "metadata": {},
   "outputs": [],
   "source": [
    "# This solution code was modified from information obtained in a tutorial presented by Mandy @ DeepLizard "
   ]
  },
  {
   "cell_type": "markdown",
   "id": "1b36ea87-381a-48b8-b403-b48f711b247d",
   "metadata": {},
   "source": [
    "https://youtu.be/qFJeN9V1ZsI"
   ]
  },
  {
   "cell_type": "code",
   "execution_count": 2,
   "id": "b9ac55d5-fc7b-45fd-b93e-da6ef6da77f8",
   "metadata": {},
   "outputs": [],
   "source": [
    "# Import dependencies\n",
    "import numpy as np\n",
    "import tensorflow as tf\n",
    "from tensorflow.keras.models import load_model\n",
    "from tensorflow.keras.preprocessing import image\n",
    "from IPython.display import Image"
   ]
  },
  {
   "cell_type": "code",
   "execution_count": 3,
   "id": "03ded7f9-c933-42af-a07b-9f39530a040a",
   "metadata": {},
   "outputs": [],
   "source": [
    "#Loading the previously trained and saved classification model\n",
    "model = load_model('Models/BarnyardAnimalClassifierFinal.h5')"
   ]
  },
  {
   "cell_type": "raw",
   "id": "5591533f-9736-48d8-88b0-00fbc9bd0c3d",
   "metadata": {},
   "source": [
    "!!THE FILEPATH IN THE BLOCK BELOW WILL NEED EDITED TO THE CORRECT LOCATION ON THE EVALUATOR'S MACHINE AFTER DOWNLOAD!!"
   ]
  },
  {
   "cell_type": "code",
   "execution_count": 4,
   "id": "bc3d0b57-1e4f-4195-9de2-fd69799133f7",
   "metadata": {},
   "outputs": [],
   "source": [
    "# Function to preprocess a single image to MobileNet specifications\n",
    "def prepare_image(file):\n",
    "    img_path = 'C:/Users/warnj/Desktop/C964 Project Data/Barnyard Images/verification/'\n",
    "    img = image.load_img(img_path + file, target_size = (224, 224))\n",
    "    img_array = image.img_to_array(img)\n",
    "    img_array_expanded_dims = np.expand_dims(img_array, axis=0)\n",
    "    return tf.keras.applications.mobilenet.preprocess_input(img_array_expanded_dims)"
   ]
  },
  {
   "cell_type": "code",
   "execution_count": 5,
   "id": "e99b872a-74db-4f27-9dfe-5a320a4fc463",
   "metadata": {
    "tags": []
   },
   "outputs": [],
   "source": [
    "# Functiuon to make a prediction on a single image passed to the model\n",
    "def predict_image(file):\n",
    "    preprocessed_image =prepare_image(file)\n",
    "    prediction = model.predict(preprocessed_image)\n",
    "    if np.argmax(prediction) == 0:\n",
    "        print('This looks like a cat to me.')\n",
    "    elif np.argmax(prediction) == 1:\n",
    "        print('This looks like a chicken to me.')\n",
    "    elif np.argmax(prediction) == 2:\n",
    "        print('This looks like a cow to me.')\n",
    "    elif np.argmax(prediction) == 3:\n",
    "        print('This looks like a dog to me.')\n",
    "    elif np.argmax(prediction) == 4:\n",
    "        print('This looks like a goat or sheep to me.')\n",
    "    elif np.argmax(prediction) == 5:\n",
    "        print('This looks like a horse to me.')\n",
    "    elif np.argmax(prediction) == 6:\n",
    "        print('This looks like a pig to me.')\n",
    "    elif np.argmax(prediction) == 7:\n",
    "        print('This looks like a rabbit to me.')"
   ]
  },
  {
   "cell_type": "raw",
   "id": "8e4decac-d0d4-45c5-b670-a8b91c4bc625",
   "metadata": {},
   "source": [
    "!!EDIT THIS VARIABLE TO ASSIGN AN IMAGE FROM THE 'verification' FOLDER FOR PREDICTION!!"
   ]
  },
  {
   "cell_type": "code",
   "execution_count": 6,
   "id": "79da6a4e-94c6-4bb9-8ebe-306f5b8f7d50",
   "metadata": {},
   "outputs": [],
   "source": [
    "file='Pig 085.jpg'"
   ]
  },
  {
   "cell_type": "raw",
   "id": "33591b30-2c14-40f6-8a33-59de0cec247d",
   "metadata": {},
   "source": [
    "!!THE FILEPATH IN THE BLOCK BELOW WILL NEED EDITED TO THE CORRECT LOCATION ON THE EVALUATOR'S MACHINE AFTER DOWNLOAD!!"
   ]
  },
  {
   "cell_type": "code",
   "execution_count": 11,
   "id": "c5281150-4b91-476b-bcd7-5cb796f110b2",
   "metadata": {
    "tags": []
   },
   "outputs": [
    {
     "data": {
      "image/jpeg": "[encoded data removed]",
      "text/plain": [
       "<IPython.core.display.Image object>"
      ]
     },
     "execution_count": 11,
     "metadata": {
      "image/jpeg": {
       "height": 300,
       "width": 300
      }
     },
     "output_type": "execute_result"
    }
   ],
   "source": [
    "# Displays a single image file\n",
    "Image(filename='C:/Users/warnj/Desktop/C964 Project Data/Barnyard Images/verification/'+file, width=300, height=300)"
   ]
  },
  {
   "cell_type": "code",
   "execution_count": null,
   "id": "ba68f62f-1dec-4268-939c-1062ae97fafd",
   "metadata": {},
   "outputs": [],
   "source": [
    "predict_image(file)"
   ]
  },
  {
   "cell_type": "code",
   "execution_count": null,
   "id": "38010cb2-9a50-4bd9-821e-57e921dc5a97",
   "metadata": {},
   "outputs": [],
   "source": []
  }
 ],
 "metadata": {
  "kernelspec": {
   "display_name": "Python 3 (ipykernel)",
   "language": "python",
   "name": "python3"
  },
  "language_info": {
   "codemirror_mode": {
    "name": "ipython",
    "version": 3
   },
   "file_extension": ".py",
   "mimetype": "text/x-python",
   "name": "python",
   "nbconvert_exporter": "python",
   "pygments_lexer": "ipython3",
   "version": "3.9.13"
  }
 },
 "nbformat": 4,
 "nbformat_minor": 5
}
